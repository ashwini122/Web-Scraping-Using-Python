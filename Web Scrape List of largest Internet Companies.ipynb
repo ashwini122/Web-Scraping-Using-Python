{
 "cells": [
  {
   "cell_type": "code",
   "execution_count": 178,
   "metadata": {},
   "outputs": [],
   "source": [
    "import csv\n",
    "from bs4 import BeautifulSoup\n",
    "import urllib.request as ul"
   ]
  },
  {
   "cell_type": "code",
   "execution_count": 179,
   "metadata": {},
   "outputs": [],
   "source": [
    "url = \"https://en.wikipedia.org/wiki/List_of_largest_Internet_companies\""
   ]
  },
  {
   "cell_type": "code",
   "execution_count": 180,
   "metadata": {},
   "outputs": [],
   "source": [
    "source = ul.urlopen(url)"
   ]
  },
  {
   "cell_type": "code",
   "execution_count": 181,
   "metadata": {},
   "outputs": [],
   "source": [
    "soup = BeautifulSoup(source.read(),'lxml')"
   ]
  },
  {
   "cell_type": "code",
   "execution_count": 182,
   "metadata": {},
   "outputs": [],
   "source": [
    "#here i used 'lxml' parser to parse the data"
   ]
  },
  {
   "cell_type": "code",
   "execution_count": 183,
   "metadata": {},
   "outputs": [],
   "source": [
    "tbody = soup('table',{\"class\":\"wikitable sortable mw-collapsible\"})[0].find_all('tr')"
   ]
  },
  {
   "cell_type": "code",
   "execution_count": 184,
   "metadata": {},
   "outputs": [],
   "source": [
    "#here i'm fetching all the rows which are under the tag 'tr' and itertating through each row to get the list of coloumns"
   ]
  },
  {
   "cell_type": "code",
   "execution_count": 185,
   "metadata": {},
   "outputs": [
    {
     "name": "stdout",
     "output_type": "stream",
     "text": [
      "[<th>Rank\n",
      "</th>, <th><a href=\"/wiki/Company\" title=\"Company\">Company</a>\n",
      "</th>, <th><a href=\"/wiki/Revenue\" title=\"Revenue\">Revenue</a> ($B)\n",
      "</th>, <th><a href=\"/wiki/Fiscal_year\" title=\"Fiscal year\">F.Y.</a>\n",
      "</th>, <th><a href=\"/wiki/Employment\" title=\"Employment\">Employees</a>\n",
      "</th>, <th><a href=\"/wiki/Market_capitalization\" title=\"Market capitalization\">Market Cap.</a> ($B)\n",
      "</th>, <th><a href=\"/wiki/Headquarters\" title=\"Headquarters\">Headquarters</a>\n",
      "</th>, <th>Founded\n",
      "</th>, <th>Refs\n",
      "</th>]\n",
      "[<td>1</td>, <td><a href=\"/wiki/Amazon_(company)\" title=\"Amazon (company)\">Amazon</a></td>, <td><span data-sort-value=\"232.9 !\">$232.9</span></td>, <td>2018</td>, <td>647,500</td>, <td><span data-sort-value=\"972.34 !\">$972.34</span></td>, <td><span class=\"flagicon\"><a href=\"/wiki/United_States\" title=\"United States\"><img alt=\"United States\" class=\"thumbborder\" data-file-height=\"650\" data-file-width=\"1235\" decoding=\"async\" height=\"12\" src=\"//upload.wikimedia.org/wikipedia/en/thumb/a/a4/Flag_of_the_United_States.svg/23px-Flag_of_the_United_States.svg.png\" srcset=\"//upload.wikimedia.org/wikipedia/en/thumb/a/a4/Flag_of_the_United_States.svg/35px-Flag_of_the_United_States.svg.png 1.5x, //upload.wikimedia.org/wikipedia/en/thumb/a/a4/Flag_of_the_United_States.svg/46px-Flag_of_the_United_States.svg.png 2x\" width=\"23\"/></a></span> <a class=\"mw-redirect\" href=\"/wiki/Seattle,_Washington\" title=\"Seattle, Washington\">Seattle</a>\n",
      "</td>, <td>1994</td>, <td><sup class=\"reference\" id=\"cite_ref-1\"><a href=\"#cite_note-1\">[1]</a></sup><sup class=\"reference\" id=\"cite_ref-2\"><a href=\"#cite_note-2\">[2]</a></sup>\n",
      "</td>]\n",
      "[<td>2</td>, <td><a href=\"/wiki/Google\" title=\"Google\">Google</a>\n",
      "</td>, <td><span data-sort-value=\"120.8 !\">$120.8</span></td>, <td>2018</td>, <td>103,549</td>, <td><span data-sort-value=\"791.01 !\">$791.01</span></td>, <td><span class=\"flagicon\"><a href=\"/wiki/United_States\" title=\"United States\"><img alt=\"United States\" class=\"thumbborder\" data-file-height=\"650\" data-file-width=\"1235\" decoding=\"async\" height=\"12\" src=\"//upload.wikimedia.org/wikipedia/en/thumb/a/a4/Flag_of_the_United_States.svg/23px-Flag_of_the_United_States.svg.png\" srcset=\"//upload.wikimedia.org/wikipedia/en/thumb/a/a4/Flag_of_the_United_States.svg/35px-Flag_of_the_United_States.svg.png 1.5x, //upload.wikimedia.org/wikipedia/en/thumb/a/a4/Flag_of_the_United_States.svg/46px-Flag_of_the_United_States.svg.png 2x\" width=\"23\"/></a></span> <a href=\"/wiki/Mountain_View,_California\" title=\"Mountain View, California\">Mountain View</a>\n",
      "</td>, <td>1998</td>, <td><sup class=\"reference\" id=\"cite_ref-3\"><a href=\"#cite_note-3\">[3]</a></sup><sup class=\"reference\" id=\"cite_ref-4\"><a href=\"#cite_note-4\">[4]</a></sup>\n",
      "</td>]\n",
      "[<td>3</td>, <td><a href=\"/wiki/JD.com\" title=\"JD.com\">JD.com</a></td>, <td><span data-sort-value=\"067.2 !\">$67.2</span></td>, <td>2018</td>, <td>178,000</td>, <td><span data-sort-value=\"041.99 !\">$41.99</span></td>, <td><span class=\"flagicon\"><a href=\"/wiki/China\" title=\"China\"><img alt=\"China\" class=\"thumbborder\" data-file-height=\"600\" data-file-width=\"900\" decoding=\"async\" height=\"15\" src=\"//upload.wikimedia.org/wikipedia/commons/thumb/f/fa/Flag_of_the_People%27s_Republic_of_China.svg/23px-Flag_of_the_People%27s_Republic_of_China.svg.png\" srcset=\"//upload.wikimedia.org/wikipedia/commons/thumb/f/fa/Flag_of_the_People%27s_Republic_of_China.svg/35px-Flag_of_the_People%27s_Republic_of_China.svg.png 1.5x, //upload.wikimedia.org/wikipedia/commons/thumb/f/fa/Flag_of_the_People%27s_Republic_of_China.svg/45px-Flag_of_the_People%27s_Republic_of_China.svg.png 2x\" width=\"23\"/></a></span> <a href=\"/wiki/Beijing\" title=\"Beijing\">Beijing</a>\n",
      "</td>, <td>1998</td>, <td><sup class=\"reference\" id=\"cite_ref-5\"><a href=\"#cite_note-5\">[5]</a></sup><sup class=\"reference\" id=\"cite_ref-6\"><a href=\"#cite_note-6\">[6]</a></sup>\n",
      "</td>]\n",
      "[<td>4</td>, <td><a href=\"/wiki/Alibaba_Group\" title=\"Alibaba Group\">Alibaba</a></td>, <td><span data-sort-value=\"056.152 !\">$56.152</span></td>, <td>2018</td>, <td>66,421</td>, <td><span data-sort-value=\"432.12 !\">$432.12</span></td>, <td><span class=\"flagicon\"><a href=\"/wiki/China\" title=\"China\"><img alt=\"China\" class=\"thumbborder\" data-file-height=\"600\" data-file-width=\"900\" decoding=\"async\" height=\"15\" src=\"//upload.wikimedia.org/wikipedia/commons/thumb/f/fa/Flag_of_the_People%27s_Republic_of_China.svg/23px-Flag_of_the_People%27s_Republic_of_China.svg.png\" srcset=\"//upload.wikimedia.org/wikipedia/commons/thumb/f/fa/Flag_of_the_People%27s_Republic_of_China.svg/35px-Flag_of_the_People%27s_Republic_of_China.svg.png 1.5x, //upload.wikimedia.org/wikipedia/commons/thumb/f/fa/Flag_of_the_People%27s_Republic_of_China.svg/45px-Flag_of_the_People%27s_Republic_of_China.svg.png 2x\" width=\"23\"/></a></span> <a href=\"/wiki/Hangzhou\" title=\"Hangzhou\">Hangzhou</a>\n",
      "</td>, <td>1999</td>, <td><sup class=\"reference\" id=\"cite_ref-7\"><a href=\"#cite_note-7\">[7]</a></sup><sup class=\"reference\" id=\"cite_ref-8\"><a href=\"#cite_note-8\">[8]</a></sup>\n",
      "</td>]\n",
      "[<td>5</td>, <td><a href=\"/wiki/Facebook\" title=\"Facebook\">Facebook</a></td>, <td><span data-sort-value=\"055.01 !\">$55.01</span></td>, <td>2018</td>, <td>25,105</td>, <td><span data-sort-value=\"575.43 !\">$575.43</span></td>, <td><span class=\"flagicon\"><a href=\"/wiki/United_States\" title=\"United States\"><img alt=\"United States\" class=\"thumbborder\" data-file-height=\"650\" data-file-width=\"1235\" decoding=\"async\" height=\"12\" src=\"//upload.wikimedia.org/wikipedia/en/thumb/a/a4/Flag_of_the_United_States.svg/23px-Flag_of_the_United_States.svg.png\" srcset=\"//upload.wikimedia.org/wikipedia/en/thumb/a/a4/Flag_of_the_United_States.svg/35px-Flag_of_the_United_States.svg.png 1.5x, //upload.wikimedia.org/wikipedia/en/thumb/a/a4/Flag_of_the_United_States.svg/46px-Flag_of_the_United_States.svg.png 2x\" width=\"23\"/></a></span> <a href=\"/wiki/Menlo_Park,_California\" title=\"Menlo Park, California\">Menlo Park</a>\n",
      "</td>, <td>2004</td>, <td><sup class=\"reference\" id=\"cite_ref-9\"><a href=\"#cite_note-9\">[9]</a></sup><sup class=\"reference\" id=\"cite_ref-10\"><a href=\"#cite_note-10\">[10]</a></sup>\n",
      "</td>]\n",
      "[<td>6</td>, <td><a href=\"/wiki/Tencent\" title=\"Tencent\">Tencent</a></td>, <td><span data-sort-value=\"044.67 !\">$44.67</span></td>, <td>2018</td>, <td>44,796</td>, <td><span data-sort-value=\"434.66 !\">$434.66</span></td>, <td><span class=\"flagicon\"><a href=\"/wiki/China\" title=\"China\"><img alt=\"China\" class=\"thumbborder\" data-file-height=\"600\" data-file-width=\"900\" decoding=\"async\" height=\"15\" src=\"//upload.wikimedia.org/wikipedia/commons/thumb/f/fa/Flag_of_the_People%27s_Republic_of_China.svg/23px-Flag_of_the_People%27s_Republic_of_China.svg.png\" srcset=\"//upload.wikimedia.org/wikipedia/commons/thumb/f/fa/Flag_of_the_People%27s_Republic_of_China.svg/35px-Flag_of_the_People%27s_Republic_of_China.svg.png 1.5x, //upload.wikimedia.org/wikipedia/commons/thumb/f/fa/Flag_of_the_People%27s_Republic_of_China.svg/45px-Flag_of_the_People%27s_Republic_of_China.svg.png 2x\" width=\"23\"/></a></span> <a href=\"/wiki/Shenzhen\" title=\"Shenzhen\">Shenzhen</a>\n",
      "</td>, <td>1998</td>, <td><sup class=\"reference\" id=\"cite_ref-11\"><a href=\"#cite_note-11\">[11]</a></sup><sup class=\"reference\" id=\"cite_ref-12\"><a href=\"#cite_note-12\">[12]</a></sup>\n",
      "</td>]\n",
      "[<td>7</td>, <td><a href=\"/wiki/Netflix\" title=\"Netflix\">Netflix</a></td>, <td><span data-sort-value=\"015.8 !\">$15.8</span></td>, <td>2018</td>, <td>5,400</td>, <td><span data-sort-value=\"140.45 !\">$140.45</span></td>, <td><span class=\"flagicon\"><a href=\"/wiki/United_States\" title=\"United States\"><img alt=\"United States\" class=\"thumbborder\" data-file-height=\"650\" data-file-width=\"1235\" decoding=\"async\" height=\"12\" src=\"//upload.wikimedia.org/wikipedia/en/thumb/a/a4/Flag_of_the_United_States.svg/23px-Flag_of_the_United_States.svg.png\" srcset=\"//upload.wikimedia.org/wikipedia/en/thumb/a/a4/Flag_of_the_United_States.svg/35px-Flag_of_the_United_States.svg.png 1.5x, //upload.wikimedia.org/wikipedia/en/thumb/a/a4/Flag_of_the_United_States.svg/46px-Flag_of_the_United_States.svg.png 2x\" width=\"23\"/></a></span> <a class=\"mw-redirect\" href=\"/wiki/Los_Gatos,_CA\" title=\"Los Gatos, CA\">Los Gatos</a>\n",
      "</td>, <td>1997</td>, <td><sup class=\"reference\" id=\"cite_ref-13\"><a href=\"#cite_note-13\">[13]</a></sup><sup class=\"reference\" id=\"cite_ref-14\"><a href=\"#cite_note-14\">[14]</a></sup>\n",
      "</td>]\n",
      "[<td>8</td>, <td><a href=\"/wiki/Booking_Holdings\" title=\"Booking Holdings\">Booking</a></td>, <td><span data-sort-value=\"012.7 !\">$12.7</span></td>, <td>2017</td>, <td>22,900</td>, <td><span data-sort-value=\"092.94 !\">$92.94</span></td>, <td><span class=\"flagicon\"><a href=\"/wiki/United_States\" title=\"United States\"><img alt=\"United States\" class=\"thumbborder\" data-file-height=\"650\" data-file-width=\"1235\" decoding=\"async\" height=\"12\" src=\"//upload.wikimedia.org/wikipedia/en/thumb/a/a4/Flag_of_the_United_States.svg/23px-Flag_of_the_United_States.svg.png\" srcset=\"//upload.wikimedia.org/wikipedia/en/thumb/a/a4/Flag_of_the_United_States.svg/35px-Flag_of_the_United_States.svg.png 1.5x, //upload.wikimedia.org/wikipedia/en/thumb/a/a4/Flag_of_the_United_States.svg/46px-Flag_of_the_United_States.svg.png 2x\" width=\"23\"/></a></span> <a href=\"/wiki/Norwalk,_Connecticut\" title=\"Norwalk, Connecticut\">Norwalk</a>\n",
      "</td>, <td>1996</td>, <td><sup class=\"reference\" id=\"cite_ref-15\"><a href=\"#cite_note-15\">[15]</a></sup>\n",
      "</td>]\n",
      "[<td>9</td>, <td><a href=\"/wiki/Baidu\" title=\"Baidu\">Baidu</a></td>, <td><span data-sort-value=\"012.40 !\">$12.40</span></td>, <td>2016</td>, <td>45,887</td>, <td><span data-sort-value=\"088.11 !\">$88.11</span></td>, <td><span class=\"flagicon\"><a href=\"/wiki/China\" title=\"China\"><img alt=\"China\" class=\"thumbborder\" data-file-height=\"600\" data-file-width=\"900\" decoding=\"async\" height=\"15\" src=\"//upload.wikimedia.org/wikipedia/commons/thumb/f/fa/Flag_of_the_People%27s_Republic_of_China.svg/23px-Flag_of_the_People%27s_Republic_of_China.svg.png\" srcset=\"//upload.wikimedia.org/wikipedia/commons/thumb/f/fa/Flag_of_the_People%27s_Republic_of_China.svg/35px-Flag_of_the_People%27s_Republic_of_China.svg.png 1.5x, //upload.wikimedia.org/wikipedia/commons/thumb/f/fa/Flag_of_the_People%27s_Republic_of_China.svg/45px-Flag_of_the_People%27s_Republic_of_China.svg.png 2x\" width=\"23\"/></a></span> <a href=\"/wiki/Beijing\" title=\"Beijing\">Beijing</a>\n",
      "</td>, <td>2000</td>, <td><sup class=\"reference\" id=\"cite_ref-16\"><a href=\"#cite_note-16\">[16]</a></sup><sup class=\"reference\" id=\"cite_ref-ir.baidu.c_Baidu_offers_various_services,_including_a_[[Chinese_language|Chinese]]_search_engine,_as_well_as_a_mapping_service_called_[[Baidu_Maps]]._Baidu_offers_about_57_search_and_community_services,_for_example,_[[Baidu_Baike]]_(an_online_[[encyclopedia]])_and_a_keyword-based_discussion_forum.&lt;ref_17-0\"><a href=\"#cite_note-ir.baidu.c_Baidu_offers_various_services,_including_a_[[Chinese_language|Chinese]]_search_engine,_as_well_as_a_mapping_service_called_[[Baidu_Maps]]._Baidu_offers_about_57_search_and_community_services,_for_example,_[[Baidu_Baike]]_(an_online_[[encyclopedia]])_and_a_keyword-based_discussion_forum.&lt;ref-17\">[17]</a></sup>\n",
      "</td>]\n",
      "[<td>10</td>, <td><a href=\"/wiki/EBay\" title=\"EBay\">eBay</a></td>, <td><span data-sort-value=\"010.75 !\">$10.75</span></td>, <td>2018</td>, <td>14,000</td>, <td><span data-sort-value=\"034.45 !\">$34.45</span></td>, <td><span class=\"flagicon\"><a href=\"/wiki/United_States\" title=\"United States\"><img alt=\"United States\" class=\"thumbborder\" data-file-height=\"650\" data-file-width=\"1235\" decoding=\"async\" height=\"12\" src=\"//upload.wikimedia.org/wikipedia/en/thumb/a/a4/Flag_of_the_United_States.svg/23px-Flag_of_the_United_States.svg.png\" srcset=\"//upload.wikimedia.org/wikipedia/en/thumb/a/a4/Flag_of_the_United_States.svg/35px-Flag_of_the_United_States.svg.png 1.5x, //upload.wikimedia.org/wikipedia/en/thumb/a/a4/Flag_of_the_United_States.svg/46px-Flag_of_the_United_States.svg.png 2x\" width=\"23\"/></a></span> <a class=\"mw-redirect\" href=\"/wiki/San_Jose,_CA\" title=\"San Jose, CA\">San Jose</a>\n",
      "</td>, <td>1995</td>, <td><sup class=\"reference\" id=\"cite_ref-18\"><a href=\"#cite_note-18\">[18]</a></sup><sup class=\"reference\" id=\"cite_ref-19\"><a href=\"#cite_note-19\">[19]</a></sup>\n",
      "</td>]\n",
      "[<td>11</td>, <td><a href=\"/wiki/Salesforce.com\" title=\"Salesforce.com\">Salesforce.com</a></td>, <td><span data-sort-value=\"010.5 !\">$10.5</span></td>, <td>2018</td>, <td>29,000</td>, <td><span data-sort-value=\"120.66 !\">$120.66</span></td>, <td><span class=\"flagicon\"><a href=\"/wiki/United_States\" title=\"United States\"><img alt=\"United States\" class=\"thumbborder\" data-file-height=\"650\" data-file-width=\"1235\" decoding=\"async\" height=\"12\" src=\"//upload.wikimedia.org/wikipedia/en/thumb/a/a4/Flag_of_the_United_States.svg/23px-Flag_of_the_United_States.svg.png\" srcset=\"//upload.wikimedia.org/wikipedia/en/thumb/a/a4/Flag_of_the_United_States.svg/35px-Flag_of_the_United_States.svg.png 1.5x, //upload.wikimedia.org/wikipedia/en/thumb/a/a4/Flag_of_the_United_States.svg/46px-Flag_of_the_United_States.svg.png 2x\" width=\"23\"/></a></span> <a href=\"/wiki/San_Francisco\" title=\"San Francisco\">San Francisco</a>\n",
      "</td>, <td>1999</td>, <td><sup class=\"reference\" id=\"cite_ref-20\"><a href=\"#cite_note-20\">[20]</a></sup><sup class=\"reference\" id=\"cite_ref-21\"><a href=\"#cite_note-21\">[21]</a></sup>\n",
      "</td>]\n",
      "[<td>12</td>, <td><a class=\"mw-redirect\" href=\"/wiki/Expedia,_Inc.\" title=\"Expedia, Inc.\">Expedia</a></td>, <td><span data-sort-value=\"010.1 !\">$10.1</span></td>, <td>2017</td>, <td>20,000</td>, <td><span data-sort-value=\"016.17 !\">$16.17</span></td>, <td><span class=\"flagicon\"><a href=\"/wiki/United_States\" title=\"United States\"><img alt=\"United States\" class=\"thumbborder\" data-file-height=\"650\" data-file-width=\"1235\" decoding=\"async\" height=\"12\" src=\"//upload.wikimedia.org/wikipedia/en/thumb/a/a4/Flag_of_the_United_States.svg/23px-Flag_of_the_United_States.svg.png\" srcset=\"//upload.wikimedia.org/wikipedia/en/thumb/a/a4/Flag_of_the_United_States.svg/35px-Flag_of_the_United_States.svg.png 1.5x, //upload.wikimedia.org/wikipedia/en/thumb/a/a4/Flag_of_the_United_States.svg/46px-Flag_of_the_United_States.svg.png 2x\" width=\"23\"/></a></span> <a href=\"/wiki/Bellevue,_Washington\" title=\"Bellevue, Washington\">Bellevue</a>\n",
      "</td>, <td>1996</td>, <td><sup class=\"reference\" id=\"cite_ref-22\"><a href=\"#cite_note-22\">[22]</a></sup><sup class=\"reference\" id=\"cite_ref-23\"><a href=\"#cite_note-23\">[23]</a></sup>\n",
      "</td>]\n",
      "[<td>13</td>, <td><a href=\"/wiki/Bloomberg_L.P.\" title=\"Bloomberg L.P.\">Bloomberg L.P.</a></td>, <td>$9.60</td>, <td>2017</td>, <td>19,000</td>, <td></td>, <td><span class=\"flagicon\"><a href=\"/wiki/United_States\" title=\"United States\"><img alt=\"United States\" class=\"thumbborder\" data-file-height=\"650\" data-file-width=\"1235\" decoding=\"async\" height=\"12\" src=\"//upload.wikimedia.org/wikipedia/en/thumb/a/a4/Flag_of_the_United_States.svg/23px-Flag_of_the_United_States.svg.png\" srcset=\"//upload.wikimedia.org/wikipedia/en/thumb/a/a4/Flag_of_the_United_States.svg/35px-Flag_of_the_United_States.svg.png 1.5x, //upload.wikimedia.org/wikipedia/en/thumb/a/a4/Flag_of_the_United_States.svg/46px-Flag_of_the_United_States.svg.png 2x\" width=\"23\"/></a></span> <a href=\"/wiki/New_York_City\" title=\"New York City\">New York City</a>\n",
      "</td>, <td>1981\n",
      "</td>, <td><sup class=\"reference\" id=\"cite_ref-24\"><a href=\"#cite_note-24\">[24]</a></sup>\n",
      "</td>]\n",
      "[<td>14</td>, <td><a href=\"/wiki/Uber\" title=\"Uber\">Uber</a></td>, <td>$7.5</td>, <td>2017</td>, <td>12,000</td>, <td><span data-sort-value=\"074.23 !\">$74.23</span>\n",
      "</td>, <td><span class=\"flagicon\"><a href=\"/wiki/United_States\" title=\"United States\"><img alt=\"United States\" class=\"thumbborder\" data-file-height=\"650\" data-file-width=\"1235\" decoding=\"async\" height=\"12\" src=\"//upload.wikimedia.org/wikipedia/en/thumb/a/a4/Flag_of_the_United_States.svg/23px-Flag_of_the_United_States.svg.png\" srcset=\"//upload.wikimedia.org/wikipedia/en/thumb/a/a4/Flag_of_the_United_States.svg/35px-Flag_of_the_United_States.svg.png 1.5x, //upload.wikimedia.org/wikipedia/en/thumb/a/a4/Flag_of_the_United_States.svg/46px-Flag_of_the_United_States.svg.png 2x\" width=\"23\"/></a></span> <a href=\"/wiki/San_Francisco\" title=\"San Francisco\">San Francisco</a>\n",
      "</td>, <td>2009\n",
      "</td>, <td><sup class=\"reference\" id=\"cite_ref-25\"><a href=\"#cite_note-25\">[25]</a></sup>\n",
      "</td>]\n",
      "[<td>16</td>, <td><a href=\"/wiki/Jio\" title=\"Jio\">Jio</a></td>, <td>$6.5</td>, <td>2018</td>, <td>14,000</td>, <td>-</td>, <td><span class=\"flagicon\"><a href=\"/wiki/India\" title=\"India\"><img alt=\"India\" class=\"thumbborder\" data-file-height=\"900\" data-file-width=\"1350\" decoding=\"async\" height=\"15\" src=\"//upload.wikimedia.org/wikipedia/en/thumb/4/41/Flag_of_India.svg/23px-Flag_of_India.svg.png\" srcset=\"//upload.wikimedia.org/wikipedia/en/thumb/4/41/Flag_of_India.svg/35px-Flag_of_India.svg.png 1.5x, //upload.wikimedia.org/wikipedia/en/thumb/4/41/Flag_of_India.svg/45px-Flag_of_India.svg.png 2x\" width=\"23\"/></a></span> <a href=\"/wiki/Mumbai\" title=\"Mumbai\">Mumbai</a>\n",
      "</td>, <td>2009</td>, <td><sup class=\"reference\" id=\"cite_ref-26\"><a href=\"#cite_note-26\">[26]</a></sup>\n",
      "</td>]\n",
      "[<td>17</td>, <td><a href=\"/wiki/Rakuten\" title=\"Rakuten\">Rakuten</a></td>, <td>$6.3</td>, <td>2015</td>, <td>14,826</td>, <td><span data-sort-value=\"012.28 !\">$12.28</span></td>, <td><span class=\"flagicon\"><a href=\"/wiki/Japan\" title=\"Japan\"><img alt=\"Japan\" class=\"thumbborder\" data-file-height=\"600\" data-file-width=\"900\" decoding=\"async\" height=\"15\" src=\"//upload.wikimedia.org/wikipedia/en/thumb/9/9e/Flag_of_Japan.svg/23px-Flag_of_Japan.svg.png\" srcset=\"//upload.wikimedia.org/wikipedia/en/thumb/9/9e/Flag_of_Japan.svg/35px-Flag_of_Japan.svg.png 1.5x, //upload.wikimedia.org/wikipedia/en/thumb/9/9e/Flag_of_Japan.svg/45px-Flag_of_Japan.svg.png 2x\" width=\"23\"/></a></span> <a href=\"/wiki/Tokyo\" title=\"Tokyo\">Tokyo</a>\n",
      "</td>, <td>1997</td>, <td><sup class=\"reference\" id=\"cite_ref-27\"><a href=\"#cite_note-27\">[27]</a></sup><sup class=\"reference\" id=\"cite_ref-28\"><a href=\"#cite_note-28\">[28]</a></sup>\n",
      "</td>]\n",
      "[<td>18\n",
      "</td>, <td><a href=\"/wiki/Zalando\" title=\"Zalando\">Zalando</a></td>, <td>$5.55</td>, <td>2017</td>, <td>14,000</td>, <td><span data-sort-value=\"013.5 !\">$13.5</span></td>, <td><span class=\"flagicon\"><a href=\"/wiki/Germany\" title=\"Germany\"><img alt=\"Germany\" class=\"thumbborder\" data-file-height=\"600\" data-file-width=\"1000\" decoding=\"async\" height=\"14\" src=\"//upload.wikimedia.org/wikipedia/en/thumb/b/ba/Flag_of_Germany.svg/23px-Flag_of_Germany.svg.png\" srcset=\"//upload.wikimedia.org/wikipedia/en/thumb/b/ba/Flag_of_Germany.svg/35px-Flag_of_Germany.svg.png 1.5x, //upload.wikimedia.org/wikipedia/en/thumb/b/ba/Flag_of_Germany.svg/46px-Flag_of_Germany.svg.png 2x\" width=\"23\"/></a></span> <a href=\"/wiki/Berlin\" title=\"Berlin\">Berlin</a>\n",
      "</td>, <td>2008\n",
      "</td>, <td><sup class=\"reference\" id=\"cite_ref-:0_29-0\"><a href=\"#cite_note-:0-29\">[29]</a></sup><sup class=\"reference\" id=\"cite_ref-30\"><a href=\"#cite_note-30\">[30]</a></sup>\n",
      "</td>]\n",
      "[<td>20\n",
      "</td>, <td><a href=\"/wiki/Meituan-Dianping\" title=\"Meituan-Dianping\">Meituan-Dianping</a>\n",
      "</td>, <td>$5.4\n",
      "</td>, <td>2017\n",
      "</td>, <td>19,000\n",
      "</td>, <td><span data-sort-value=\"030 !\">$30</span>\n",
      "</td>, <td><span class=\"flagicon\"><a href=\"/wiki/China\" title=\"China\"><img alt=\"China\" class=\"thumbborder\" data-file-height=\"600\" data-file-width=\"900\" decoding=\"async\" height=\"15\" src=\"//upload.wikimedia.org/wikipedia/commons/thumb/f/fa/Flag_of_the_People%27s_Republic_of_China.svg/23px-Flag_of_the_People%27s_Republic_of_China.svg.png\" srcset=\"//upload.wikimedia.org/wikipedia/commons/thumb/f/fa/Flag_of_the_People%27s_Republic_of_China.svg/35px-Flag_of_the_People%27s_Republic_of_China.svg.png 1.5x, //upload.wikimedia.org/wikipedia/commons/thumb/f/fa/Flag_of_the_People%27s_Republic_of_China.svg/45px-Flag_of_the_People%27s_Republic_of_China.svg.png 2x\" width=\"23\"/></a></span> <a href=\"/wiki/Beijing\" title=\"Beijing\">Beijing</a>\n",
      "</td>, <td>2010\n",
      "</td>, <td><sup class=\"reference\" id=\"cite_ref-31\"><a href=\"#cite_note-31\">[31]</a></sup><sup class=\"reference\" id=\"cite_ref-32\"><a href=\"#cite_note-32\">[32]</a></sup>\n",
      "</td>]\n",
      "[<td>21</td>, <td><a class=\"mw-redirect\" href=\"/wiki/Naver_Corporation\" title=\"Naver Corporation\">Naver</a></td>, <td>$3.65</td>, <td>2017</td>, <td>2,793</td>, <td><span data-sort-value=\"021.44 !\">$21.44</span></td>, <td><span class=\"flagicon\"><a href=\"/wiki/South_Korea\" title=\"South Korea\"><img alt=\"South Korea\" class=\"thumbborder\" data-file-height=\"600\" data-file-width=\"900\" decoding=\"async\" height=\"15\" src=\"//upload.wikimedia.org/wikipedia/commons/thumb/0/09/Flag_of_South_Korea.svg/23px-Flag_of_South_Korea.svg.png\" srcset=\"//upload.wikimedia.org/wikipedia/commons/thumb/0/09/Flag_of_South_Korea.svg/35px-Flag_of_South_Korea.svg.png 1.5x, //upload.wikimedia.org/wikipedia/commons/thumb/0/09/Flag_of_South_Korea.svg/45px-Flag_of_South_Korea.svg.png 2x\" width=\"23\"/></a></span> <a href=\"/wiki/Seongnam\" title=\"Seongnam\">Seongnam</a>\n",
      "</td>, <td>1999\n",
      "</td>, <td><sup class=\"reference\" id=\"cite_ref-33\"><a href=\"#cite_note-33\">[33]</a></sup>\n",
      "</td>]\n",
      "[<td>22</td>, <td><a href=\"/wiki/NetEase\" title=\"NetEase\">NetEase</a></td>, <td>$3.63</td>, <td>2015</td>, <td>15,948</td>, <td><span data-sort-value=\"038.796 !\">$38.796</span></td>, <td><span class=\"flagicon\"><a href=\"/wiki/China\" title=\"China\"><img alt=\"China\" class=\"thumbborder\" data-file-height=\"600\" data-file-width=\"900\" decoding=\"async\" height=\"15\" src=\"//upload.wikimedia.org/wikipedia/commons/thumb/f/fa/Flag_of_the_People%27s_Republic_of_China.svg/23px-Flag_of_the_People%27s_Republic_of_China.svg.png\" srcset=\"//upload.wikimedia.org/wikipedia/commons/thumb/f/fa/Flag_of_the_People%27s_Republic_of_China.svg/35px-Flag_of_the_People%27s_Republic_of_China.svg.png 1.5x, //upload.wikimedia.org/wikipedia/commons/thumb/f/fa/Flag_of_the_People%27s_Republic_of_China.svg/45px-Flag_of_the_People%27s_Republic_of_China.svg.png 2x\" width=\"23\"/></a></span> <a href=\"/wiki/Guangzhou\" title=\"Guangzhou\">Guangzhou</a>\n",
      "</td>, <td>1997\n",
      "</td>, <td><sup class=\"reference\" id=\"cite_ref-34\"><a href=\"#cite_note-34\">[34]</a></sup><sup class=\"reference\" id=\"cite_ref-35\"><a href=\"#cite_note-35\">[35]</a></sup>\n",
      "</td>]\n",
      "[<td>23</td>, <td><a href=\"/wiki/Groupon\" title=\"Groupon\">Groupon</a></td>, <td>$3.143</td>, <td>2016</td>, <td>10,000</td>, <td>$2.437</td>, <td><span class=\"flagicon\"><a href=\"/wiki/United_States\" title=\"United States\"><img alt=\"United States\" class=\"thumbborder\" data-file-height=\"650\" data-file-width=\"1235\" decoding=\"async\" height=\"12\" src=\"//upload.wikimedia.org/wikipedia/en/thumb/a/a4/Flag_of_the_United_States.svg/23px-Flag_of_the_United_States.svg.png\" srcset=\"//upload.wikimedia.org/wikipedia/en/thumb/a/a4/Flag_of_the_United_States.svg/35px-Flag_of_the_United_States.svg.png 1.5x, //upload.wikimedia.org/wikipedia/en/thumb/a/a4/Flag_of_the_United_States.svg/46px-Flag_of_the_United_States.svg.png 2x\" width=\"23\"/></a></span> <a href=\"/wiki/Chicago\" title=\"Chicago\">Chicago</a>\n",
      "</td>, <td>2008\n",
      "</td>, <td><sup class=\"reference\" id=\"cite_ref-36\"><a href=\"#cite_note-36\">[36]</a></sup><sup class=\"reference\" id=\"cite_ref-37\"><a href=\"#cite_note-37\">[37]</a></sup>\n",
      "</td>]\n",
      "[<td>24</td>, <td><a href=\"/wiki/Spotify\" title=\"Spotify\">Spotify</a></td>, <td>$3.1</td>, <td>2016</td>, <td>3,000</td>, <td><span data-sort-value=\"033.38 !\">$33.38</span></td>, <td><span class=\"flagicon\"><a href=\"/wiki/Sweden\" title=\"Sweden\"><img alt=\"Sweden\" class=\"thumbborder\" data-file-height=\"1000\" data-file-width=\"1600\" decoding=\"async\" height=\"14\" src=\"//upload.wikimedia.org/wikipedia/en/thumb/4/4c/Flag_of_Sweden.svg/23px-Flag_of_Sweden.svg.png\" srcset=\"//upload.wikimedia.org/wikipedia/en/thumb/4/4c/Flag_of_Sweden.svg/35px-Flag_of_Sweden.svg.png 1.5x, //upload.wikimedia.org/wikipedia/en/thumb/4/4c/Flag_of_Sweden.svg/46px-Flag_of_Sweden.svg.png 2x\" width=\"23\"/></a></span> <a href=\"/wiki/Stockholm\" title=\"Stockholm\">Stockholm</a>\n",
      "</td>, <td>2006\n",
      "</td>, <td><sup class=\"reference\" id=\"cite_ref-38\"><a href=\"#cite_note-38\">[38]</a></sup>\n",
      "</td>]\n",
      "[<td>25</td>, <td><a href=\"/wiki/Flipkart\" title=\"Flipkart\">Flipkart</a></td>, <td>$3.0</td>, <td>2017<sup class=\"reference\" id=\"cite_ref-39\"><a href=\"#cite_note-39\">[39]</a></sup></td>, <td>30,000\n",
      "</td>, <td><sup class=\"reference\" id=\"cite_ref-40\"><a href=\"#cite_note-40\">[40]</a></sup></td>, <td><span class=\"flagicon\"><a href=\"/wiki/India\" title=\"India\"><img alt=\"India\" class=\"thumbborder\" data-file-height=\"900\" data-file-width=\"1350\" decoding=\"async\" height=\"15\" src=\"//upload.wikimedia.org/wikipedia/en/thumb/4/41/Flag_of_India.svg/23px-Flag_of_India.svg.png\" srcset=\"//upload.wikimedia.org/wikipedia/en/thumb/4/41/Flag_of_India.svg/35px-Flag_of_India.svg.png 1.5x, //upload.wikimedia.org/wikipedia/en/thumb/4/41/Flag_of_India.svg/45px-Flag_of_India.svg.png 2x\" width=\"23\"/></a></span> <a href=\"/wiki/Bangalore\" title=\"Bangalore\">Bangalore</a>\n",
      "</td>, <td>2007\n",
      "</td>, <td><sup class=\"reference\" id=\"cite_ref-41\"><a href=\"#cite_note-41\">[41]</a></sup>\n",
      "</td>]\n",
      "[<td>26</td>, <td><a href=\"/wiki/ServiceNow\" title=\"ServiceNow\">ServiceNow</a></td>, <td>$2.60</td>, <td>2018</td>, <td>6,000</td>, <td><span data-sort-value=\"043.54 !\">$43.54</span></td>, <td><span class=\"flagicon\"><a href=\"/wiki/United_States\" title=\"United States\"><img alt=\"United States\" class=\"thumbborder\" data-file-height=\"650\" data-file-width=\"1235\" decoding=\"async\" height=\"12\" src=\"//upload.wikimedia.org/wikipedia/en/thumb/a/a4/Flag_of_the_United_States.svg/23px-Flag_of_the_United_States.svg.png\" srcset=\"//upload.wikimedia.org/wikipedia/en/thumb/a/a4/Flag_of_the_United_States.svg/35px-Flag_of_the_United_States.svg.png 1.5x, //upload.wikimedia.org/wikipedia/en/thumb/a/a4/Flag_of_the_United_States.svg/46px-Flag_of_the_United_States.svg.png 2x\" width=\"23\"/></a></span> <a href=\"/wiki/Santa_Clara,_California\" title=\"Santa Clara, California\">Santa Clara</a>\n",
      "</td>, <td>2004\n",
      "</td>, <td><sup class=\"reference\" id=\"cite_ref-42\"><a href=\"#cite_note-42\">[42]</a></sup>\n",
      "</td>]\n",
      "[<td>27</td>, <td><a href=\"/wiki/Twitter\" title=\"Twitter\">Twitter</a></td>, <td>$2.44</td>, <td>2017</td>, <td>3,372</td>, <td><span data-sort-value=\"024.028 !\">$24.028</span></td>, <td><span class=\"flagicon\"><a href=\"/wiki/United_States\" title=\"United States\"><img alt=\"United States\" class=\"thumbborder\" data-file-height=\"650\" data-file-width=\"1235\" decoding=\"async\" height=\"12\" src=\"//upload.wikimedia.org/wikipedia/en/thumb/a/a4/Flag_of_the_United_States.svg/23px-Flag_of_the_United_States.svg.png\" srcset=\"//upload.wikimedia.org/wikipedia/en/thumb/a/a4/Flag_of_the_United_States.svg/35px-Flag_of_the_United_States.svg.png 1.5x, //upload.wikimedia.org/wikipedia/en/thumb/a/a4/Flag_of_the_United_States.svg/46px-Flag_of_the_United_States.svg.png 2x\" width=\"23\"/></a></span> <a href=\"/wiki/San_Francisco\" title=\"San Francisco\">San Francisco</a>\n",
      "</td>, <td>2006\n",
      "</td>, <td><sup class=\"reference\" id=\"cite_ref-43\"><a href=\"#cite_note-43\">[43]</a></sup>\n",
      "</td>]\n",
      "[<td>28\n",
      "</td>, <td><a href=\"/wiki/B2W\" title=\"B2W\">B2W</a></td>, <td>$2.10</td>, <td>2017</td>, <td>2,376</td>, <td>$3.30</td>, <td><span class=\"flagicon\"><a href=\"/wiki/Brazil\" title=\"Brazil\"><img alt=\"Brazil\" class=\"thumbborder\" data-file-height=\"504\" data-file-width=\"720\" decoding=\"async\" height=\"15\" src=\"//upload.wikimedia.org/wikipedia/en/thumb/0/05/Flag_of_Brazil.svg/22px-Flag_of_Brazil.svg.png\" srcset=\"//upload.wikimedia.org/wikipedia/en/thumb/0/05/Flag_of_Brazil.svg/33px-Flag_of_Brazil.svg.png 1.5x, //upload.wikimedia.org/wikipedia/en/thumb/0/05/Flag_of_Brazil.svg/43px-Flag_of_Brazil.svg.png 2x\" width=\"22\"/></a></span> <a href=\"/wiki/Rio_de_Janeiro\" title=\"Rio de Janeiro\">Rio de Janeiro</a>\n",
      "</td>, <td>2006\n",
      "</td>, <td><sup class=\"reference\" id=\"cite_ref-:0_29-1\"><a href=\"#cite_note-:0-29\">[29]</a></sup><sup class=\"reference\" id=\"cite_ref-44\"><a href=\"#cite_note-44\">[44]</a></sup>\n",
      "</td>]\n",
      "[<td>30</td>, <td><a href=\"/wiki/Airbnb\" title=\"Airbnb\">Airbnb</a></td>, <td>$1.7</td>, <td>2016</td>, <td>3,100</td>, <td></td>, <td><span class=\"flagicon\"><a href=\"/wiki/United_States\" title=\"United States\"><img alt=\"United States\" class=\"thumbborder\" data-file-height=\"650\" data-file-width=\"1235\" decoding=\"async\" height=\"12\" src=\"//upload.wikimedia.org/wikipedia/en/thumb/a/a4/Flag_of_the_United_States.svg/23px-Flag_of_the_United_States.svg.png\" srcset=\"//upload.wikimedia.org/wikipedia/en/thumb/a/a4/Flag_of_the_United_States.svg/35px-Flag_of_the_United_States.svg.png 1.5x, //upload.wikimedia.org/wikipedia/en/thumb/a/a4/Flag_of_the_United_States.svg/46px-Flag_of_the_United_States.svg.png 2x\" width=\"23\"/></a></span> <a href=\"/wiki/San_Francisco\" title=\"San Francisco\">San Francisco</a>\n",
      "</td>, <td>2008\n",
      "</td>, <td><sup class=\"reference\" id=\"cite_ref-45\"><a href=\"#cite_note-45\">[45]</a></sup><sup class=\"reference\" id=\"cite_ref-46\"><a href=\"#cite_note-46\">[46]</a></sup>\n",
      "</td>]\n",
      "[<td>31</td>, <td><a href=\"/wiki/Yandex\" title=\"Yandex\">Yandex</a></td>, <td>$1.61</td>, <td>2017</td>, <td>7,445</td>, <td><span data-sort-value=\"010.592 !\">$10.592</span></td>, <td><span class=\"flagicon\"><a href=\"/wiki/Russia\" title=\"Russia\"><img alt=\"Russia\" class=\"thumbborder\" data-file-height=\"600\" data-file-width=\"900\" decoding=\"async\" height=\"15\" src=\"//upload.wikimedia.org/wikipedia/en/thumb/f/f3/Flag_of_Russia.svg/23px-Flag_of_Russia.svg.png\" srcset=\"//upload.wikimedia.org/wikipedia/en/thumb/f/f3/Flag_of_Russia.svg/35px-Flag_of_Russia.svg.png 1.5x, //upload.wikimedia.org/wikipedia/en/thumb/f/f3/Flag_of_Russia.svg/45px-Flag_of_Russia.svg.png 2x\" width=\"23\"/></a></span> <a href=\"/wiki/Moscow\" title=\"Moscow\">Moscow</a>\n",
      "</td>, <td>2000\n",
      "</td>, <td><sup class=\"reference\" id=\"cite_ref-47\"><a href=\"#cite_note-47\">[47]</a></sup>\n",
      "</td>]\n",
      "[<td>32</td>, <td><a href=\"/wiki/Workday,_Inc.\" title=\"Workday, Inc.\">Workday</a></td>, <td>$1.56</td>, <td>2017</td>, <td>6,900</td>, <td><span data-sort-value=\"026.976 !\">$26.976</span></td>, <td><span class=\"flagicon\"><a href=\"/wiki/United_States\" title=\"United States\"><img alt=\"United States\" class=\"thumbborder\" data-file-height=\"650\" data-file-width=\"1235\" decoding=\"async\" height=\"12\" src=\"//upload.wikimedia.org/wikipedia/en/thumb/a/a4/Flag_of_the_United_States.svg/23px-Flag_of_the_United_States.svg.png\" srcset=\"//upload.wikimedia.org/wikipedia/en/thumb/a/a4/Flag_of_the_United_States.svg/35px-Flag_of_the_United_States.svg.png 1.5x, //upload.wikimedia.org/wikipedia/en/thumb/a/a4/Flag_of_the_United_States.svg/46px-Flag_of_the_United_States.svg.png 2x\" width=\"23\"/></a></span> <a class=\"mw-redirect\" href=\"/wiki/Pleasanton,_CA\" title=\"Pleasanton, CA\">Pleasanton</a>\n",
      "</td>, <td>2005\n",
      "</td>, <td><sup class=\"reference\" id=\"cite_ref-48\"><a href=\"#cite_note-48\">[48]</a></sup>\n",
      "</td>]\n",
      "[<td>29</td>, <td><a href=\"/wiki/TripAdvisor\" title=\"TripAdvisor\">TripAdvisor</a></td>, <td>$1.5</td>, <td>2015</td>, <td>3,008</td>, <td>$5.618</td>, <td><span class=\"flagicon\"><a href=\"/wiki/United_States\" title=\"United States\"><img alt=\"United States\" class=\"thumbborder\" data-file-height=\"650\" data-file-width=\"1235\" decoding=\"async\" height=\"12\" src=\"//upload.wikimedia.org/wikipedia/en/thumb/a/a4/Flag_of_the_United_States.svg/23px-Flag_of_the_United_States.svg.png\" srcset=\"//upload.wikimedia.org/wikipedia/en/thumb/a/a4/Flag_of_the_United_States.svg/35px-Flag_of_the_United_States.svg.png 1.5x, //upload.wikimedia.org/wikipedia/en/thumb/a/a4/Flag_of_the_United_States.svg/46px-Flag_of_the_United_States.svg.png 2x\" width=\"23\"/></a></span> <a href=\"/wiki/Needham,_Massachusetts\" title=\"Needham, Massachusetts\">Needham</a>\n",
      "</td>, <td>2000\n",
      "</td>, <td><sup class=\"reference\" id=\"cite_ref-49\"><a href=\"#cite_note-49\">[49]</a></sup><sup class=\"reference\" id=\"cite_ref-50\"><a href=\"#cite_note-50\">[50]</a></sup>\n",
      "</td>]\n",
      "[<td>30</td>, <td><a href=\"/wiki/ASOS.com\" title=\"ASOS.com\">ASOS.com</a></td>, <td>$1.40</td>, <td>2014</td>, <td>7,500</td>, <td>$8.56</td>, <td><span class=\"flagicon\"><a href=\"/wiki/United_Kingdom\" title=\"United Kingdom\"><img alt=\"United Kingdom\" class=\"thumbborder\" data-file-height=\"600\" data-file-width=\"1200\" decoding=\"async\" height=\"12\" src=\"//upload.wikimedia.org/wikipedia/en/thumb/a/ae/Flag_of_the_United_Kingdom.svg/23px-Flag_of_the_United_Kingdom.svg.png\" srcset=\"//upload.wikimedia.org/wikipedia/en/thumb/a/ae/Flag_of_the_United_Kingdom.svg/35px-Flag_of_the_United_Kingdom.svg.png 1.5x, //upload.wikimedia.org/wikipedia/en/thumb/a/ae/Flag_of_the_United_Kingdom.svg/46px-Flag_of_the_United_Kingdom.svg.png 2x\" width=\"23\"/></a></span> <a href=\"/wiki/London\" title=\"London\">London</a>\n",
      "</td>, <td>2000\n",
      "</td>, <td><sup class=\"reference\" id=\"cite_ref-51\"><a href=\"#cite_note-51\">[51]</a></sup><sup class=\"reference\" id=\"cite_ref-52\"><a href=\"#cite_note-52\">[52]</a></sup>\n",
      "</td>]\n",
      "[<td>31</td>, <td><a href=\"/wiki/Mail.Ru\" title=\"Mail.Ru\">Mail.Ru</a></td>, <td>$1.10</td>, <td>2017</td>, <td>3,000</td>, <td><span data-sort-value=\"012.51 !\">$12.51</span></td>, <td><span class=\"flagicon\"><a href=\"/wiki/Russia\" title=\"Russia\"><img alt=\"Russia\" class=\"thumbborder\" data-file-height=\"600\" data-file-width=\"900\" decoding=\"async\" height=\"15\" src=\"//upload.wikimedia.org/wikipedia/en/thumb/f/f3/Flag_of_Russia.svg/23px-Flag_of_Russia.svg.png\" srcset=\"//upload.wikimedia.org/wikipedia/en/thumb/f/f3/Flag_of_Russia.svg/35px-Flag_of_Russia.svg.png 1.5x, //upload.wikimedia.org/wikipedia/en/thumb/f/f3/Flag_of_Russia.svg/45px-Flag_of_Russia.svg.png 2x\" width=\"23\"/></a></span> <a href=\"/wiki/Moscow\" title=\"Moscow\">Moscow</a>\n",
      "</td>, <td>1998\n",
      "</td>, <td><sup class=\"reference\" id=\"cite_ref-53\"><a href=\"#cite_note-53\">[53]</a></sup>\n",
      "</td>]\n",
      "[<td>32</td>, <td><a class=\"mw-redirect\" href=\"/wiki/ODIGEO\" title=\"ODIGEO\">eDreams ODIGEO</a></td>, <td>$0.5</td>, <td>2015</td>, <td>1,700</td>, <td>$0.707</td>, <td><span class=\"flagicon\"><a href=\"/wiki/Spain\" title=\"Spain\"><img alt=\"Spain\" class=\"thumbborder\" data-file-height=\"500\" data-file-width=\"750\" decoding=\"async\" height=\"15\" src=\"//upload.wikimedia.org/wikipedia/en/thumb/9/9a/Flag_of_Spain.svg/23px-Flag_of_Spain.svg.png\" srcset=\"//upload.wikimedia.org/wikipedia/en/thumb/9/9a/Flag_of_Spain.svg/35px-Flag_of_Spain.svg.png 1.5x, //upload.wikimedia.org/wikipedia/en/thumb/9/9a/Flag_of_Spain.svg/45px-Flag_of_Spain.svg.png 2x\" width=\"23\"/></a></span> <a href=\"/wiki/Barcelona\" title=\"Barcelona\">Barcelona</a>\n",
      "</td>, <td>2011\n",
      "</td>, <td><sup class=\"reference\" id=\"cite_ref-54\"><a href=\"#cite_note-54\">[54]</a></sup><sup class=\"reference\" id=\"cite_ref-55\"><a href=\"#cite_note-55\">[55]</a></sup>\n",
      "</td>]\n"
     ]
    }
   ],
   "source": [
    "for row in tbody:\n",
    "    cols = row.findChildren(recursive=False)\n",
    "    print(cols)"
   ]
  },
  {
   "cell_type": "code",
   "execution_count": 186,
   "metadata": {},
   "outputs": [],
   "source": [
    "# here we are getting all the elements along with the tags so we have to strip the data which is inside a particular tag for that\n",
    "# we have use '.text.strip()' function hence we have to iterate through each <td></td> element of the coloumn inside a row[] and \n",
    "# and strip the data to get tabular format"
   ]
  },
  {
   "cell_type": "code",
   "execution_count": 187,
   "metadata": {},
   "outputs": [
    {
     "name": "stdout",
     "output_type": "stream",
     "text": [
      "['Rank', 'Company', 'Revenue ($B)', 'F.Y.', 'Employees', 'Market Cap. ($B)', 'Headquarters', 'Founded', 'Refs']\n",
      "['1', 'Amazon', '$232.9', '2018', '647,500', '$972.34', 'Seattle', '1994', '[1][2]']\n",
      "['2', 'Google', '$120.8', '2018', '103,549', '$791.01', 'Mountain View', '1998', '[3][4]']\n",
      "['3', 'JD.com', '$67.2', '2018', '178,000', '$41.99', 'Beijing', '1998', '[5][6]']\n",
      "['4', 'Alibaba', '$56.152', '2018', '66,421', '$432.12', 'Hangzhou', '1999', '[7][8]']\n",
      "['5', 'Facebook', '$55.01', '2018', '25,105', '$575.43', 'Menlo Park', '2004', '[9][10]']\n",
      "['6', 'Tencent', '$44.67', '2018', '44,796', '$434.66', 'Shenzhen', '1998', '[11][12]']\n",
      "['7', 'Netflix', '$15.8', '2018', '5,400', '$140.45', 'Los Gatos', '1997', '[13][14]']\n",
      "['8', 'Booking', '$12.7', '2017', '22,900', '$92.94', 'Norwalk', '1996', '[15]']\n",
      "['9', 'Baidu', '$12.40', '2016', '45,887', '$88.11', 'Beijing', '2000', '[16][17]']\n",
      "['10', 'eBay', '$10.75', '2018', '14,000', '$34.45', 'San Jose', '1995', '[18][19]']\n",
      "['11', 'Salesforce.com', '$10.5', '2018', '29,000', '$120.66', 'San Francisco', '1999', '[20][21]']\n",
      "['12', 'Expedia', '$10.1', '2017', '20,000', '$16.17', 'Bellevue', '1996', '[22][23]']\n",
      "['13', 'Bloomberg L.P.', '$9.60', '2017', '19,000', '', 'New York City', '1981', '[24]']\n",
      "['14', 'Uber', '$7.5', '2017', '12,000', '$74.23', 'San Francisco', '2009', '[25]']\n",
      "['16', 'Jio', '$6.5', '2018', '14,000', '-', 'Mumbai', '2009', '[26]']\n",
      "['17', 'Rakuten', '$6.3', '2015', '14,826', '$12.28', 'Tokyo', '1997', '[27][28]']\n",
      "['18', 'Zalando', '$5.55', '2017', '14,000', '$13.5', 'Berlin', '2008', '[29][30]']\n",
      "['20', 'Meituan-Dianping', '$5.4', '2017', '19,000', '$30', 'Beijing', '2010', '[31][32]']\n",
      "['21', 'Naver', '$3.65', '2017', '2,793', '$21.44', 'Seongnam', '1999', '[33]']\n",
      "['22', 'NetEase', '$3.63', '2015', '15,948', '$38.796', 'Guangzhou', '1997', '[34][35]']\n",
      "['23', 'Groupon', '$3.143', '2016', '10,000', '$2.437', 'Chicago', '2008', '[36][37]']\n",
      "['24', 'Spotify', '$3.1', '2016', '3,000', '$33.38', 'Stockholm', '2006', '[38]']\n",
      "['25', 'Flipkart', '$3.0', '2017[39]', '30,000', '[40]', 'Bangalore', '2007', '[41]']\n",
      "['26', 'ServiceNow', '$2.60', '2018', '6,000', '$43.54', 'Santa Clara', '2004', '[42]']\n",
      "['27', 'Twitter', '$2.44', '2017', '3,372', '$24.028', 'San Francisco', '2006', '[43]']\n",
      "['28', 'B2W', '$2.10', '2017', '2,376', '$3.30', 'Rio de Janeiro', '2006', '[29][44]']\n",
      "['30', 'Airbnb', '$1.7', '2016', '3,100', '', 'San Francisco', '2008', '[45][46]']\n",
      "['31', 'Yandex', '$1.61', '2017', '7,445', '$10.592', 'Moscow', '2000', '[47]']\n",
      "['32', 'Workday', '$1.56', '2017', '6,900', '$26.976', 'Pleasanton', '2005', '[48]']\n",
      "['29', 'TripAdvisor', '$1.5', '2015', '3,008', '$5.618', 'Needham', '2000', '[49][50]']\n",
      "['30', 'ASOS.com', '$1.40', '2014', '7,500', '$8.56', 'London', '2000', '[51][52]']\n",
      "['31', 'Mail.Ru', '$1.10', '2017', '3,000', '$12.51', 'Moscow', '1998', '[53]']\n",
      "['32', 'eDreams ODIGEO', '$0.5', '2015', '1,700', '$0.707', 'Barcelona', '2011', '[54][55]']\n"
     ]
    }
   ],
   "source": [
    "for row in tbody:\n",
    "    cols = row.findChildren(recursive = False)\n",
    "    cols = [ele.text.strip() for ele in cols]\n",
    "    print(cols)\n",
    "    "
   ]
  },
  {
   "cell_type": "code",
   "execution_count": 188,
   "metadata": {},
   "outputs": [],
   "source": [
    "#here we have an unwanted column called ref so we have slice that column"
   ]
  },
  {
   "cell_type": "code",
   "execution_count": 189,
   "metadata": {},
   "outputs": [
    {
     "name": "stdout",
     "output_type": "stream",
     "text": [
      "['Rank', 'Company', 'Revenue ($B)', 'F.Y.', 'Employees', 'Market Cap. ($B)', 'Headquarters']\n",
      "['1', 'Amazon', '$232.9', '2018', '647,500', '$972.34', 'Seattle']\n",
      "['2', 'Google', '$120.8', '2018', '103,549', '$791.01', 'Mountain View']\n",
      "['3', 'JD.com', '$67.2', '2018', '178,000', '$41.99', 'Beijing']\n",
      "['4', 'Alibaba', '$56.152', '2018', '66,421', '$432.12', 'Hangzhou']\n",
      "['5', 'Facebook', '$55.01', '2018', '25,105', '$575.43', 'Menlo Park']\n",
      "['6', 'Tencent', '$44.67', '2018', '44,796', '$434.66', 'Shenzhen']\n",
      "['7', 'Netflix', '$15.8', '2018', '5,400', '$140.45', 'Los Gatos']\n",
      "['8', 'Booking', '$12.7', '2017', '22,900', '$92.94', 'Norwalk']\n",
      "['9', 'Baidu', '$12.40', '2016', '45,887', '$88.11', 'Beijing']\n",
      "['10', 'eBay', '$10.75', '2018', '14,000', '$34.45', 'San Jose']\n",
      "['11', 'Salesforce.com', '$10.5', '2018', '29,000', '$120.66', 'San Francisco']\n",
      "['12', 'Expedia', '$10.1', '2017', '20,000', '$16.17', 'Bellevue']\n",
      "['13', 'Bloomberg L.P.', '$9.60', '2017', '19,000', '', 'New York City']\n",
      "['14', 'Uber', '$7.5', '2017', '12,000', '$74.23', 'San Francisco']\n",
      "['16', 'Jio', '$6.5', '2018', '14,000', '-', 'Mumbai']\n",
      "['17', 'Rakuten', '$6.3', '2015', '14,826', '$12.28', 'Tokyo']\n",
      "['18', 'Zalando', '$5.55', '2017', '14,000', '$13.5', 'Berlin']\n",
      "['20', 'Meituan-Dianping', '$5.4', '2017', '19,000', '$30', 'Beijing']\n",
      "['21', 'Naver', '$3.65', '2017', '2,793', '$21.44', 'Seongnam']\n",
      "['22', 'NetEase', '$3.63', '2015', '15,948', '$38.796', 'Guangzhou']\n",
      "['23', 'Groupon', '$3.143', '2016', '10,000', '$2.437', 'Chicago']\n",
      "['24', 'Spotify', '$3.1', '2016', '3,000', '$33.38', 'Stockholm']\n",
      "['25', 'Flipkart', '$3.0', '2017[39]', '30,000', '[40]', 'Bangalore']\n",
      "['26', 'ServiceNow', '$2.60', '2018', '6,000', '$43.54', 'Santa Clara']\n",
      "['27', 'Twitter', '$2.44', '2017', '3,372', '$24.028', 'San Francisco']\n",
      "['28', 'B2W', '$2.10', '2017', '2,376', '$3.30', 'Rio de Janeiro']\n",
      "['30', 'Airbnb', '$1.7', '2016', '3,100', '', 'San Francisco']\n",
      "['31', 'Yandex', '$1.61', '2017', '7,445', '$10.592', 'Moscow']\n",
      "['32', 'Workday', '$1.56', '2017', '6,900', '$26.976', 'Pleasanton']\n",
      "['29', 'TripAdvisor', '$1.5', '2015', '3,008', '$5.618', 'Needham']\n",
      "['30', 'ASOS.com', '$1.40', '2014', '7,500', '$8.56', 'London']\n",
      "['31', 'Mail.Ru', '$1.10', '2017', '3,000', '$12.51', 'Moscow']\n",
      "['32', 'eDreams ODIGEO', '$0.5', '2015', '1,700', '$0.707', 'Barcelona']\n"
     ]
    }
   ],
   "source": [
    "for row in tbody:\n",
    "    cols = row.findChildren(recursive = False)\n",
    "    cols = [ele.text.strip() for ele in cols]\n",
    "    cols = cols[:-2]\n",
    "    print(cols)"
   ]
  },
  {
   "cell_type": "code",
   "execution_count": 190,
   "metadata": {},
   "outputs": [],
   "source": [
    "#Now we go store the data in comma seperated values so now we have to export the data into a file 'output data'"
   ]
  },
  {
   "cell_type": "code",
   "execution_count": 191,
   "metadata": {},
   "outputs": [],
   "source": [
    "f = open('output-data.csv','w',newline ='')\n",
    "writer = csv.writer(f)"
   ]
  },
  {
   "cell_type": "code",
   "execution_count": 192,
   "metadata": {},
   "outputs": [],
   "source": [
    "#so we have opened new 'output-data' file in write mode to save the above output into csv"
   ]
  },
  {
   "cell_type": "code",
   "execution_count": 193,
   "metadata": {},
   "outputs": [
    {
     "name": "stdout",
     "output_type": "stream",
     "text": [
      "['Rank', 'Company', 'Revenue ($B)', 'F.Y.', 'Employees', 'Market Cap. ($B)', 'Headquarters']\n",
      "['1', 'Amazon', '$232.9', '2018', '647,500', '$972.34', 'Seattle']\n",
      "['2', 'Google', '$120.8', '2018', '103,549', '$791.01', 'Mountain View']\n",
      "['3', 'JD.com', '$67.2', '2018', '178,000', '$41.99', 'Beijing']\n",
      "['4', 'Alibaba', '$56.152', '2018', '66,421', '$432.12', 'Hangzhou']\n",
      "['5', 'Facebook', '$55.01', '2018', '25,105', '$575.43', 'Menlo Park']\n",
      "['6', 'Tencent', '$44.67', '2018', '44,796', '$434.66', 'Shenzhen']\n",
      "['7', 'Netflix', '$15.8', '2018', '5,400', '$140.45', 'Los Gatos']\n",
      "['8', 'Booking', '$12.7', '2017', '22,900', '$92.94', 'Norwalk']\n",
      "['9', 'Baidu', '$12.40', '2016', '45,887', '$88.11', 'Beijing']\n",
      "['10', 'eBay', '$10.75', '2018', '14,000', '$34.45', 'San Jose']\n",
      "['11', 'Salesforce.com', '$10.5', '2018', '29,000', '$120.66', 'San Francisco']\n",
      "['12', 'Expedia', '$10.1', '2017', '20,000', '$16.17', 'Bellevue']\n",
      "['13', 'Bloomberg L.P.', '$9.60', '2017', '19,000', '', 'New York City']\n",
      "['14', 'Uber', '$7.5', '2017', '12,000', '$74.23', 'San Francisco']\n",
      "['16', 'Jio', '$6.5', '2018', '14,000', '-', 'Mumbai']\n",
      "['17', 'Rakuten', '$6.3', '2015', '14,826', '$12.28', 'Tokyo']\n",
      "['18', 'Zalando', '$5.55', '2017', '14,000', '$13.5', 'Berlin']\n",
      "['20', 'Meituan-Dianping', '$5.4', '2017', '19,000', '$30', 'Beijing']\n",
      "['21', 'Naver', '$3.65', '2017', '2,793', '$21.44', 'Seongnam']\n",
      "['22', 'NetEase', '$3.63', '2015', '15,948', '$38.796', 'Guangzhou']\n",
      "['23', 'Groupon', '$3.143', '2016', '10,000', '$2.437', 'Chicago']\n",
      "['24', 'Spotify', '$3.1', '2016', '3,000', '$33.38', 'Stockholm']\n",
      "['25', 'Flipkart', '$3.0', '2017[39]', '30,000', '[40]', 'Bangalore']\n",
      "['26', 'ServiceNow', '$2.60', '2018', '6,000', '$43.54', 'Santa Clara']\n",
      "['27', 'Twitter', '$2.44', '2017', '3,372', '$24.028', 'San Francisco']\n",
      "['28', 'B2W', '$2.10', '2017', '2,376', '$3.30', 'Rio de Janeiro']\n",
      "['30', 'Airbnb', '$1.7', '2016', '3,100', '', 'San Francisco']\n",
      "['31', 'Yandex', '$1.61', '2017', '7,445', '$10.592', 'Moscow']\n",
      "['32', 'Workday', '$1.56', '2017', '6,900', '$26.976', 'Pleasanton']\n",
      "['29', 'TripAdvisor', '$1.5', '2015', '3,008', '$5.618', 'Needham']\n",
      "['30', 'ASOS.com', '$1.40', '2014', '7,500', '$8.56', 'London']\n",
      "['31', 'Mail.Ru', '$1.10', '2017', '3,000', '$12.51', 'Moscow']\n",
      "['32', 'eDreams ODIGEO', '$0.5', '2015', '1,700', '$0.707', 'Barcelona']\n"
     ]
    }
   ],
   "source": [
    "for row in tbody:\n",
    "    cols = row.findChildren(recursive =False)\n",
    "    cols = [ele.text.strip() for ele in cols]\n",
    "    cols = cols[:-2]\n",
    "    writer.writerow(cols)\n",
    "    print(cols)\n",
    "f.close()"
   ]
  },
  {
   "cell_type": "code",
   "execution_count": null,
   "metadata": {},
   "outputs": [],
   "source": []
  },
  {
   "cell_type": "code",
   "execution_count": null,
   "metadata": {},
   "outputs": [],
   "source": []
  },
  {
   "cell_type": "code",
   "execution_count": null,
   "metadata": {},
   "outputs": [],
   "source": []
  }
 ],
 "metadata": {
  "kernelspec": {
   "display_name": "Python 3",
   "language": "python",
   "name": "python3"
  },
  "language_info": {
   "codemirror_mode": {
    "name": "ipython",
    "version": 3
   },
   "file_extension": ".py",
   "mimetype": "text/x-python",
   "name": "python",
   "nbconvert_exporter": "python",
   "pygments_lexer": "ipython3",
   "version": "3.6.5"
  }
 },
 "nbformat": 4,
 "nbformat_minor": 2
}
